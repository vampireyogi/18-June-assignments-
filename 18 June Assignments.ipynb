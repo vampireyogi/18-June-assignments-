{
 "cells": [
  {
   "cell_type": "markdown",
   "id": "c63d687a",
   "metadata": {},
   "source": [
    "1. What is the role of the 'else' block in a try-except statement? Provide an example\n",
    "scenario where it would be useful.\n",
    "- The 'else' block in a try-except statement is optional and is executed only if no exceptions are raised in the try block"
   ]
  },
  {
   "cell_type": "code",
   "execution_count": 1,
   "id": "a1c682bb",
   "metadata": {},
   "outputs": [
    {
     "name": "stdout",
     "output_type": "stream",
     "text": [
      "10\n",
      "try block running\n"
     ]
    }
   ],
   "source": [
    "# else block \n",
    "x=10\n",
    "try:\n",
    "    print(x)\n",
    "except:\n",
    "    print(\"their is no x\")\n",
    "else:\n",
    "    print(\"try block running\")"
   ]
  },
  {
   "cell_type": "markdown",
   "id": "d7389bc2",
   "metadata": {},
   "source": [
    "2. Can a try-except block be nested inside another try-except block? Explain with an\n",
    "example.\n",
    "- Yes, a try-except block can be nested inside another try-except block."
   ]
  },
  {
   "cell_type": "code",
   "execution_count": 9,
   "id": "0eff6578",
   "metadata": {},
   "outputs": [
    {
     "name": "stdout",
     "output_type": "stream",
     "text": [
      "c is not defined\n"
     ]
    }
   ],
   "source": [
    " # nested try-except block\n",
    "a=10\n",
    "b=a\n",
    "try:\n",
    "    try:\n",
    "        print(c)\n",
    "    except NameError :\n",
    "        print(\"c is not defined\")\n",
    "    except ValueError :\n",
    "        print(\"value error\")\n",
    "except :\n",
    "    print(\"check above code\")"
   ]
  },
  {
   "cell_type": "markdown",
   "id": "76299bb0",
   "metadata": {},
   "source": [
    "3. How can you create a custom exception class in Python? Provide an example that\n",
    "demonstrates its usage.\n",
    "- To create a custom exception class in Python, you can define a new class that inherits from the built-in Exception class"
   ]
  },
  {
   "cell_type": "code",
   "execution_count": 12,
   "id": "d77a181f",
   "metadata": {},
   "outputs": [
    {
     "name": "stdout",
     "output_type": "stream",
     "text": [
      "custom exception is running\n"
     ]
    }
   ],
   "source": [
    "# custom exception\n",
    "class custom_exception(Exception):\n",
    "    \"This is user defined exception\"\n",
    "    pass\n",
    "#usage of custom exception\n",
    "x=10\n",
    "try:\n",
    "    if x<20:\n",
    "        raise custom_exception()\n",
    "    else:\n",
    "        print(\"ok\")\n",
    "\n",
    "except custom_exception:\n",
    "    print(\"custom exception is running\")\n",
    "    "
   ]
  },
  {
   "cell_type": "markdown",
   "id": "e6dab452",
   "metadata": {},
   "source": [
    "4. What are some common exceptions that are built-in to Python?\n",
    "- Here are some of the most common built-in exceptions in Python:\n",
    "- NameError: Raised when a name is not found in the local or global namespace.\n",
    "- TypeError: Raised when an operation or function is applied to an object of inappropriate type.\n",
    "- ValueError: Raised when a built-in operation or function receives an argument that has the right type but an inappropriate value.\n",
    "- ZeroDivisionError: Raised when the second argument of a division or modulo operation is zero."
   ]
  },
  {
   "cell_type": "markdown",
   "id": "1b8a63b2",
   "metadata": {},
   "source": [
    "5. What is logging in Python, and why is it important in software development?\n",
    "- Python has a built-in module logging which allows writing status messages to a file or any other output streams. It is a crucial tool for software development, debugging, and running. Without any logging record, it can be challenging to detect the cause of a problem if the program crashes."
   ]
  },
  {
   "cell_type": "markdown",
   "id": "7d407999",
   "metadata": {},
   "source": [
    "6. Explain the purpose of log levels in Python logging and provide examples of when\n",
    "each log level would be appropriate.\n",
    "<ul>\n",
    "- In Python, log levels are used to indicate the severity of a log message in a software application.\n",
    "- Debug: These are used to give Detailed information, typically of interest only when diagnosing problems.\n",
    "- Info: These are used to confirm that things are working as expected\n",
    "- Warning: These are used as an indication that something unexpected happened, or is indicative of some problem in the near future\n",
    "- Error: This tells that due to a more serious problem, the software has not been able to perform some function\n",
    "- Critical: This tells serious error, indicating that the program itself may be unable to continue running\n",
    "</ul>"
   ]
  },
  {
   "cell_type": "code",
   "execution_count": 23,
   "id": "fd12e5b1",
   "metadata": {},
   "outputs": [
    {
     "name": "stderr",
     "output_type": "stream",
     "text": [
      "DEBUG:root:variables are 4 and 2\n",
      "INFO:root:This is admin\n",
      "WARNING:root:Please maintain minimum balance in your bank account net balace is 5000\n",
      "ERROR:root:wrong password: 2 attempts left (entered password: new)\n",
      "CRITICAL:root:Your system failed (sys:old)\n"
     ]
    }
   ],
   "source": [
    "# Example of log levels\n",
    "import logging\n",
    "\n",
    "# Debug\n",
    "logging.basicConfig(level=logging.DEBUG)\n",
    "def div(a,b):\n",
    "    logging.debug(\"variables are %s and %s\",a,b)\n",
    "    \n",
    "div(4,2)\n",
    "\n",
    "# Info\n",
    "logging.basicConfig(level=logging.INFO)\n",
    "def access_to_loging(user):\n",
    "    logging.info(\"This is %s\",user)\n",
    "\n",
    "access_to_loging(\"admin\")\n",
    "\n",
    "# Warning\n",
    "logging.basicConfig(level=logging.WARNING)\n",
    "\n",
    "def balance(amount):\n",
    "    if amount<=10000:\n",
    "        logging.warning(\"Please maintain minimum balance in your bank account net balace is %s\",amount)\n",
    "\n",
    "balance(5000)\n",
    "\n",
    "# Error\n",
    "logging.basicConfig(level=logging.ERROR)\n",
    "\n",
    "def password(String):\n",
    "    if String!=\"open lock\":\n",
    "        logging.error(\"wrong password: 2 attempts left (entered password: %s)\",String)\n",
    "        \n",
    "password(\"new\")\n",
    "\n",
    "# Critical\n",
    "logging.basicConfig(level=logging.CRITICAL)\n",
    "\n",
    "def check(sys):\n",
    "    if sys!=\"ok\":\n",
    "        logging.critical(\"Your system failed (sys:%s)\",sys)\n",
    "\n",
    "check(\"old\")"
   ]
  },
  {
   "cell_type": "markdown",
   "id": "1d91c2c7",
   "metadata": {},
   "source": [
    "7. What are log formatters in Python logging, and how can you customise the log\n",
    "message format using formatters?\n",
    "- A log formatter in Python is used to configure the final structure and content of the logs. Using a python log formatter, we can include log name, time, date, severity, and other information along with the log message using the % operator. To define the format of a log, we use the Formatter () method.\n",
    "<code>formatter = logging.Formatter('%(asctime)s:%(levelname)s:%(message)s')</code>\n",
    "- To customise the log message format using formatters in Python, you need to use the logging.Formatter class and set it to the desired format string. "
   ]
  },
  {
   "cell_type": "code",
   "execution_count": 47,
   "id": "d9b5019f",
   "metadata": {},
   "outputs": [],
   "source": [
    "import logging\n",
    "# here we can customise the log message or ouput \n",
    "formatter = logging.Formatter('%(asctime)s - %(name)s - %(levelname)s - %(message)s ')\n",
    "# another way for simple uses\n",
    "logging.basicConfig(level=logging.DEBUG,\n",
    "                    format='%(levelname)s:%(message)s:&(asctime)s')\n",
    "logging.debug('This formatted message')"
   ]
  },
  {
   "cell_type": "markdown",
   "id": "92ca4712",
   "metadata": {},
   "source": [
    "8. How can you set up logging to capture log messages from multiple modules or\n",
    "classes in a Python application?\n",
    "- Import the logging module in each module or class that needs logging.\n",
    "- Use logging.getLogger() to create a logger object with a name for each module or class.\n",
    "- Use logging.basicConfig() to configure the filename, level, and format of the log messages in the main module or class.\n",
    "- Use logger.info(), logger.debug(), logger.error(), etc. to write log messages with different levels of severity."
   ]
  },
  {
   "cell_type": "code",
   "execution_count": 11,
   "id": "4d7137a1",
   "metadata": {},
   "outputs": [],
   "source": [
    "# After doing lot of research and practice i am able to write these two simple codes \n",
    "# 1st one\n",
    "import logging\n",
    "\n",
    "class class1:\n",
    "    def function1(self):\n",
    "        logging.debug(\"This is class 1\")\n",
    "\n",
    "class class2:\n",
    "    def function2(self):\n",
    "        logging.debug(\"This is class 2\")\n",
    "\n",
    "def set_up():\n",
    "    logging.basicConfig(level=logging.DEBUG)\n",
    "\n",
    "    a = class1()\n",
    "    a.function1()\n",
    "    b = class2()\n",
    "    b.function2()\n",
    "set_up()"
   ]
  },
  {
   "cell_type": "code",
   "execution_count": 13,
   "id": "3e1172bc",
   "metadata": {},
   "outputs": [],
   "source": [
    "# 2nd one\n",
    "import logging\n",
    "import math\n",
    "\n",
    "class class1:\n",
    "    def function1(self):\n",
    "        logging.info(\"This is class 1\")\n",
    "\n",
    "class class2:\n",
    "    def function2(self):\n",
    "        logging.info(\"This is class 2\")\n",
    "\n",
    "def set_up():\n",
    "    logging.basicConfig(level=logging.INFO)\n",
    "\n",
    "    a = class1()\n",
    "    a.function1()\n",
    "\n",
    "    b = class2()\n",
    "    b.function2()\n",
    "    logger=logging.getLogger('math')\n",
    "    logger.info(\"This is math module\")\n",
    "\n",
    "\n",
    "set_up()"
   ]
  },
  {
   "cell_type": "markdown",
   "id": "76716f76",
   "metadata": {},
   "source": [
    "9. What is the difference between the logging and print statements in Python? When\n",
    "should you use logging over print statements in a real-world application?\n",
    "- Print is mainly used for displaying essential output to the user or the console. Logging also allows you to control the level, format, and source of the messages.\n",
    "- Logging is a better option than print for real-world applications in Python because it has many useful features that print doesn’t have, such as:\n",
    "<ul>\n",
    "<ln>You can see where and when a logging call is made from.</ln>\n",
    "    <ln>You can log to different destinations such as files, sockets, etc. at the same time.</ln>\n",
    "You can differentiate your logging based on severity (debug, info, warning, error, critical).\n",
    "</ul>"
   ]
  },
  {
   "cell_type": "markdown",
   "id": "b615f276",
   "metadata": {},
   "source": [
    "10. Write a Python program that logs a message to a file named \"app.log\" with the\n",
    "following requirements:\n",
    "- The log message should be \"Hello, World!\"\n",
    "- The log level should be set to \"INFO.\"\n",
    "- The log file should append new log entries without overwriting previous ones."
   ]
  },
  {
   "cell_type": "code",
   "execution_count": 40,
   "id": "ed491072",
   "metadata": {},
   "outputs": [],
   "source": [
    "import logging\n",
    "import os\n",
    "\n",
    "path=r'C:\\\\Users\\\\sorou\\\\Desktop\\\\Assignments\\\\Python basics'\n",
    "file='app.log'\n",
    "full_path=os.path.join(path,file)\n",
    "os.makedirs(path,exist_ok=True)\n",
    "\n",
    "logger = logging.getLogger()\n",
    "logger.setLevel(logging.INFO)\n",
    "\n",
    "handler = logging.FileHandler(full_path)\n",
    "handler.setFormatter(logging.Formatter(\"%(message)s\"))\n",
    "logger.addHandler(handler)\n",
    "\n",
    "def hello():\n",
    "    return logging.info(\"Hello world\")\n",
    "        \n",
    "hello()\n",
    "        \n",
    "handler.close()"
   ]
  },
  {
   "cell_type": "code",
   "execution_count": 41,
   "id": "522af1a4",
   "metadata": {},
   "outputs": [
    {
     "name": "stdout",
     "output_type": "stream",
     "text": [
      "Hello world\n",
      "\n"
     ]
    }
   ],
   "source": [
    "f=open('app.log','r')\n",
    "logs=f.read()\n",
    "print(logs)\n",
    "f.close()"
   ]
  },
  {
   "cell_type": "markdown",
   "id": "fd2b91a2",
   "metadata": {},
   "source": [
    "11. Create a Python program that logs an error message to the console and a file named\n",
    "\"errors.log\" if an exception occurs during the program's execution. The error\n",
    "message should include the exception type and a timestamp."
   ]
  },
  {
   "cell_type": "code",
   "execution_count": 91,
   "id": "8ef495ca",
   "metadata": {},
   "outputs": [
    {
     "name": "stderr",
     "output_type": "stream",
     "text": [
      "ERROR:root:Error is division by zero\n"
     ]
    }
   ],
   "source": [
    "import logging\n",
    "import os\n",
    "\n",
    "path=r'C:\\\\Users\\\\sorou\\\\Desktop\\\\Assignments\\\\Python basics'\n",
    "file='error.log'\n",
    "full_path=os.path.join(path,file)\n",
    "os.makedirs(path,exist_ok=True)\n",
    "\n",
    "logger = logging.getLogger()\n",
    "logger.setLevel(logging.ERROR)\n",
    "\n",
    "handler = logging.FileHandler(full_path)\n",
    "handler.setFormatter(logging.Formatter(\"%(asctime)s : %(message)s: assignments\"))\n",
    "logger.addHandler(handler)\n",
    "\n",
    "def exception_error(n,d):\n",
    "    try:\n",
    "        divide=n/d\n",
    "        return divide\n",
    "    except Exception as a :\n",
    "        logging.error(\"Error is %s\",a)\n",
    "        \n",
    "exception_error(3,0)\n",
    "        \n",
    "handler.close()"
   ]
  },
  {
   "cell_type": "code",
   "execution_count": 92,
   "id": "f896068c",
   "metadata": {},
   "outputs": [
    {
     "name": "stdout",
     "output_type": "stream",
     "text": [
      "2023-09-06 23:49:27,835 : Error is division by zero: assignments\n",
      "\n"
     ]
    }
   ],
   "source": [
    "f=open('error.log','r')\n",
    "logs=f.read()\n",
    "print(logs)\n",
    "f.close()"
   ]
  }
 ],
 "metadata": {
  "kernelspec": {
   "display_name": "Python 3 (ipykernel)",
   "language": "python",
   "name": "python3"
  },
  "language_info": {
   "codemirror_mode": {
    "name": "ipython",
    "version": 3
   },
   "file_extension": ".py",
   "mimetype": "text/x-python",
   "name": "python",
   "nbconvert_exporter": "python",
   "pygments_lexer": "ipython3",
   "version": "3.11.3"
  }
 },
 "nbformat": 4,
 "nbformat_minor": 5
}
